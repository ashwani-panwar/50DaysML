{
 "cells": [
  {
   "cell_type": "markdown",
   "id": "4ac53974",
   "metadata": {},
   "source": [
    "# Took Walmart Sales data from Kaggle for day 1 project"
   ]
  },
  {
   "cell_type": "code",
   "execution_count": 1,
   "id": "dc682ca9",
   "metadata": {},
   "outputs": [],
   "source": [
    "import numpy as np\n",
    "import pandas as pd\n",
    "import matplotlib.pyplot as plt\n",
    "import seaborn as sns"
   ]
  },
  {
   "cell_type": "code",
   "execution_count": 2,
   "id": "71d2f49b",
   "metadata": {},
   "outputs": [],
   "source": [
    "df = pd.read_csv(\"Walmart_Sales.csv\")"
   ]
  },
  {
   "cell_type": "code",
   "execution_count": 3,
   "id": "c103528f",
   "metadata": {},
   "outputs": [
    {
     "data": {
      "text/html": [
       "<div>\n",
       "<style scoped>\n",
       "    .dataframe tbody tr th:only-of-type {\n",
       "        vertical-align: middle;\n",
       "    }\n",
       "\n",
       "    .dataframe tbody tr th {\n",
       "        vertical-align: top;\n",
       "    }\n",
       "\n",
       "    .dataframe thead th {\n",
       "        text-align: right;\n",
       "    }\n",
       "</style>\n",
       "<table border=\"1\" class=\"dataframe\">\n",
       "  <thead>\n",
       "    <tr style=\"text-align: right;\">\n",
       "      <th></th>\n",
       "      <th>Store</th>\n",
       "      <th>Date</th>\n",
       "      <th>Weekly_Sales</th>\n",
       "      <th>Holiday_Flag</th>\n",
       "      <th>Temperature</th>\n",
       "      <th>Fuel_Price</th>\n",
       "      <th>CPI</th>\n",
       "      <th>Unemployment</th>\n",
       "    </tr>\n",
       "  </thead>\n",
       "  <tbody>\n",
       "    <tr>\n",
       "      <th>0</th>\n",
       "      <td>1</td>\n",
       "      <td>05-02-2010</td>\n",
       "      <td>1643690.90</td>\n",
       "      <td>0</td>\n",
       "      <td>42.31</td>\n",
       "      <td>2.572</td>\n",
       "      <td>211.096358</td>\n",
       "      <td>8.106</td>\n",
       "    </tr>\n",
       "    <tr>\n",
       "      <th>1</th>\n",
       "      <td>1</td>\n",
       "      <td>12-02-2010</td>\n",
       "      <td>1641957.44</td>\n",
       "      <td>1</td>\n",
       "      <td>38.51</td>\n",
       "      <td>2.548</td>\n",
       "      <td>211.242170</td>\n",
       "      <td>8.106</td>\n",
       "    </tr>\n",
       "    <tr>\n",
       "      <th>2</th>\n",
       "      <td>1</td>\n",
       "      <td>19-02-2010</td>\n",
       "      <td>1611968.17</td>\n",
       "      <td>0</td>\n",
       "      <td>39.93</td>\n",
       "      <td>2.514</td>\n",
       "      <td>211.289143</td>\n",
       "      <td>8.106</td>\n",
       "    </tr>\n",
       "    <tr>\n",
       "      <th>3</th>\n",
       "      <td>1</td>\n",
       "      <td>26-02-2010</td>\n",
       "      <td>1409727.59</td>\n",
       "      <td>0</td>\n",
       "      <td>46.63</td>\n",
       "      <td>2.561</td>\n",
       "      <td>211.319643</td>\n",
       "      <td>8.106</td>\n",
       "    </tr>\n",
       "    <tr>\n",
       "      <th>4</th>\n",
       "      <td>1</td>\n",
       "      <td>05-03-2010</td>\n",
       "      <td>1554806.68</td>\n",
       "      <td>0</td>\n",
       "      <td>46.50</td>\n",
       "      <td>2.625</td>\n",
       "      <td>211.350143</td>\n",
       "      <td>8.106</td>\n",
       "    </tr>\n",
       "  </tbody>\n",
       "</table>\n",
       "</div>"
      ],
      "text/plain": [
       "   Store        Date  Weekly_Sales  Holiday_Flag  Temperature  Fuel_Price  \\\n",
       "0      1  05-02-2010    1643690.90             0        42.31       2.572   \n",
       "1      1  12-02-2010    1641957.44             1        38.51       2.548   \n",
       "2      1  19-02-2010    1611968.17             0        39.93       2.514   \n",
       "3      1  26-02-2010    1409727.59             0        46.63       2.561   \n",
       "4      1  05-03-2010    1554806.68             0        46.50       2.625   \n",
       "\n",
       "          CPI  Unemployment  \n",
       "0  211.096358         8.106  \n",
       "1  211.242170         8.106  \n",
       "2  211.289143         8.106  \n",
       "3  211.319643         8.106  \n",
       "4  211.350143         8.106  "
      ]
     },
     "execution_count": 3,
     "metadata": {},
     "output_type": "execute_result"
    }
   ],
   "source": [
    "df.head()"
   ]
  },
  {
   "cell_type": "code",
   "execution_count": 4,
   "id": "966164cb",
   "metadata": {},
   "outputs": [
    {
     "data": {
      "text/plain": [
       "(6435, 8)"
      ]
     },
     "execution_count": 4,
     "metadata": {},
     "output_type": "execute_result"
    }
   ],
   "source": [
    "df.shape"
   ]
  },
  {
   "cell_type": "code",
   "execution_count": 5,
   "id": "e9bda45f",
   "metadata": {},
   "outputs": [
    {
     "data": {
      "text/plain": [
       "Store           False\n",
       "Date            False\n",
       "Weekly_Sales    False\n",
       "Holiday_Flag    False\n",
       "Temperature     False\n",
       "Fuel_Price      False\n",
       "CPI             False\n",
       "Unemployment    False\n",
       "dtype: bool"
      ]
     },
     "execution_count": 5,
     "metadata": {},
     "output_type": "execute_result"
    }
   ],
   "source": [
    "df.isnull().any()"
   ]
  },
  {
   "cell_type": "markdown",
   "id": "dd1fa8f8",
   "metadata": {},
   "source": [
    "# Separating the columns into X and Y"
   ]
  },
  {
   "cell_type": "code",
   "execution_count": 6,
   "id": "a24c2532",
   "metadata": {},
   "outputs": [],
   "source": [
    "y = df['Weekly_Sales']"
   ]
  },
  {
   "cell_type": "code",
   "execution_count": 23,
   "id": "b1e2f0b9",
   "metadata": {},
   "outputs": [],
   "source": [
    "X = df.drop(columns=['Weekly_Sales','Date'])"
   ]
  },
  {
   "cell_type": "code",
   "execution_count": 24,
   "id": "525ca118",
   "metadata": {},
   "outputs": [
    {
     "data": {
      "text/plain": [
       "(6435,)"
      ]
     },
     "execution_count": 24,
     "metadata": {},
     "output_type": "execute_result"
    }
   ],
   "source": [
    "y.shape"
   ]
  },
  {
   "cell_type": "code",
   "execution_count": 25,
   "id": "6bef05db",
   "metadata": {},
   "outputs": [
    {
     "data": {
      "text/plain": [
       "(6435, 6)"
      ]
     },
     "execution_count": 25,
     "metadata": {},
     "output_type": "execute_result"
    }
   ],
   "source": [
    "X.shape"
   ]
  },
  {
   "cell_type": "markdown",
   "id": "aaeb0f37",
   "metadata": {},
   "source": [
    "# Splitting the dataset into Train and Test data"
   ]
  },
  {
   "cell_type": "code",
   "execution_count": 26,
   "id": "ba921cc3",
   "metadata": {},
   "outputs": [],
   "source": [
    "from sklearn.model_selection import train_test_split"
   ]
  },
  {
   "cell_type": "code",
   "execution_count": 27,
   "id": "1fcb8b7c",
   "metadata": {},
   "outputs": [],
   "source": [
    "X_train, X_test, y_train, y_test = train_test_split(X,y, test_size= 0.2, random_state= 45)"
   ]
  },
  {
   "cell_type": "code",
   "execution_count": 28,
   "id": "8568b29c",
   "metadata": {},
   "outputs": [
    {
     "data": {
      "text/plain": [
       "(5148, 6)"
      ]
     },
     "execution_count": 28,
     "metadata": {},
     "output_type": "execute_result"
    }
   ],
   "source": [
    "X_train.shape"
   ]
  },
  {
   "cell_type": "code",
   "execution_count": 29,
   "id": "67df166d",
   "metadata": {},
   "outputs": [
    {
     "data": {
      "text/plain": [
       "(5148,)"
      ]
     },
     "execution_count": 29,
     "metadata": {},
     "output_type": "execute_result"
    }
   ],
   "source": [
    "y_train.shape"
   ]
  },
  {
   "cell_type": "code",
   "execution_count": 30,
   "id": "82d5afc3",
   "metadata": {},
   "outputs": [
    {
     "data": {
      "text/plain": [
       "(1287, 6)"
      ]
     },
     "execution_count": 30,
     "metadata": {},
     "output_type": "execute_result"
    }
   ],
   "source": [
    "X_test.shape"
   ]
  },
  {
   "cell_type": "markdown",
   "id": "5306b753",
   "metadata": {},
   "source": [
    "## Using Support Vector Regression Model \n",
    "Usually SVM is used for classification problem as it create a hyperplane that seperates the classifiers when they are plotted against features"
   ]
  },
  {
   "cell_type": "code",
   "execution_count": 31,
   "id": "80eeaa20",
   "metadata": {},
   "outputs": [],
   "source": [
    "from sklearn import svm"
   ]
  },
  {
   "cell_type": "code",
   "execution_count": 32,
   "id": "16dc0e0e",
   "metadata": {},
   "outputs": [],
   "source": [
    "svm_model = svm.SVR()"
   ]
  },
  {
   "cell_type": "code",
   "execution_count": 33,
   "id": "4fc00afd",
   "metadata": {},
   "outputs": [
    {
     "data": {
      "text/plain": [
       "SVR()"
      ]
     },
     "execution_count": 33,
     "metadata": {},
     "output_type": "execute_result"
    }
   ],
   "source": [
    "svm_model.fit(X_train,y_train)"
   ]
  },
  {
   "cell_type": "markdown",
   "id": "cace1c44",
   "metadata": {},
   "source": []
  },
  {
   "cell_type": "code",
   "execution_count": 34,
   "id": "132ffca8",
   "metadata": {},
   "outputs": [],
   "source": [
    "svm_prediction=svm_model.predict(X_test)"
   ]
  },
  {
   "cell_type": "code",
   "execution_count": 35,
   "id": "68276717",
   "metadata": {},
   "outputs": [],
   "source": [
    "from sklearn.metrics import mean_absolute_error"
   ]
  },
  {
   "cell_type": "code",
   "execution_count": 36,
   "id": "31d640cb",
   "metadata": {},
   "outputs": [],
   "source": [
    "svm_mae = mean_absolute_error(y_test,svm_prediction)"
   ]
  },
  {
   "cell_type": "code",
   "execution_count": 37,
   "id": "0f08ff4e",
   "metadata": {},
   "outputs": [
    {
     "data": {
      "text/plain": [
       "454635.73960689927"
      ]
     },
     "execution_count": 37,
     "metadata": {},
     "output_type": "execute_result"
    }
   ],
   "source": [
    "svm_mae"
   ]
  },
  {
   "cell_type": "markdown",
   "id": "6ad5c57f",
   "metadata": {},
   "source": [
    "# Very high mean absolute error. Will try Decision Tree Regressor Model "
   ]
  },
  {
   "cell_type": "markdown",
   "id": "6e4952ff",
   "metadata": {},
   "source": [
    "A regression tree is basically a decision tree that is used for the task of regression which can be used to predict continuous valued outputs instead of discrete outputs. It selects the region on the basis of variance reduction condition. "
   ]
  },
  {
   "cell_type": "code",
   "execution_count": 39,
   "id": "9499c783",
   "metadata": {},
   "outputs": [],
   "source": [
    "from sklearn.tree import DecisionTreeRegressor"
   ]
  },
  {
   "cell_type": "code",
   "execution_count": 40,
   "id": "ebec8e36",
   "metadata": {},
   "outputs": [],
   "source": [
    "dt_model=DecisionTreeRegressor()"
   ]
  },
  {
   "cell_type": "code",
   "execution_count": 41,
   "id": "3da0576b",
   "metadata": {},
   "outputs": [
    {
     "data": {
      "text/plain": [
       "DecisionTreeRegressor()"
      ]
     },
     "execution_count": 41,
     "metadata": {},
     "output_type": "execute_result"
    }
   ],
   "source": [
    "dt_model.fit(X_train,y_train)"
   ]
  },
  {
   "cell_type": "code",
   "execution_count": 42,
   "id": "3097dcc1",
   "metadata": {},
   "outputs": [],
   "source": [
    "dt_prediction= dt_model.predict(X_test)"
   ]
  },
  {
   "cell_type": "code",
   "execution_count": 43,
   "id": "7a9126b2",
   "metadata": {},
   "outputs": [],
   "source": [
    "dt_mae= mean_absolute_error(y_test,dt_prediction)"
   ]
  },
  {
   "cell_type": "code",
   "execution_count": 44,
   "id": "e0e8c936",
   "metadata": {},
   "outputs": [
    {
     "data": {
      "text/plain": [
       "96374.34406371406"
      ]
     },
     "execution_count": 44,
     "metadata": {},
     "output_type": "execute_result"
    }
   ],
   "source": [
    "dt_mae"
   ]
  },
  {
   "cell_type": "markdown",
   "id": "c7ec1543",
   "metadata": {},
   "source": [
    "We will do Standardisation & Normalisation to features through StandardScaler"
   ]
  },
  {
   "cell_type": "code",
   "execution_count": 45,
   "id": "72f508e1",
   "metadata": {},
   "outputs": [],
   "source": [
    "from sklearn.preprocessing import StandardScaler"
   ]
  },
  {
   "cell_type": "code",
   "execution_count": 46,
   "id": "6305e730",
   "metadata": {},
   "outputs": [],
   "source": [
    "std_scaler = StandardScaler()"
   ]
  },
  {
   "cell_type": "code",
   "execution_count": 48,
   "id": "d8dc75d4",
   "metadata": {},
   "outputs": [],
   "source": [
    "scaled_X_train = pd.DataFrame(std_scaler.fit_transform(X_train),columns=X_train.columns, index=X_train.index)"
   ]
  },
  {
   "cell_type": "code",
   "execution_count": 49,
   "id": "82931669",
   "metadata": {},
   "outputs": [],
   "source": [
    "scaled_X_test = pd.DataFrame(std_scaler.fit_transform(X_test),columns=X_test.columns, index=X_test.index)"
   ]
  },
  {
   "cell_type": "code",
   "execution_count": 50,
   "id": "2a54431a",
   "metadata": {},
   "outputs": [
    {
     "data": {
      "text/html": [
       "<div>\n",
       "<style scoped>\n",
       "    .dataframe tbody tr th:only-of-type {\n",
       "        vertical-align: middle;\n",
       "    }\n",
       "\n",
       "    .dataframe tbody tr th {\n",
       "        vertical-align: top;\n",
       "    }\n",
       "\n",
       "    .dataframe thead th {\n",
       "        text-align: right;\n",
       "    }\n",
       "</style>\n",
       "<table border=\"1\" class=\"dataframe\">\n",
       "  <thead>\n",
       "    <tr style=\"text-align: right;\">\n",
       "      <th></th>\n",
       "      <th>Store</th>\n",
       "      <th>Holiday_Flag</th>\n",
       "      <th>Temperature</th>\n",
       "      <th>Fuel_Price</th>\n",
       "      <th>CPI</th>\n",
       "      <th>Unemployment</th>\n",
       "    </tr>\n",
       "  </thead>\n",
       "  <tbody>\n",
       "    <tr>\n",
       "      <th>1509</th>\n",
       "      <td>-0.898927</td>\n",
       "      <td>-0.269258</td>\n",
       "      <td>1.590550</td>\n",
       "      <td>0.631544</td>\n",
       "      <td>1.157172</td>\n",
       "      <td>-0.213764</td>\n",
       "    </tr>\n",
       "    <tr>\n",
       "      <th>3124</th>\n",
       "      <td>-0.070889</td>\n",
       "      <td>-0.269258</td>\n",
       "      <td>0.490199</td>\n",
       "      <td>0.983441</td>\n",
       "      <td>-0.788782</td>\n",
       "      <td>-0.158498</td>\n",
       "    </tr>\n",
       "    <tr>\n",
       "      <th>4606</th>\n",
       "      <td>0.757148</td>\n",
       "      <td>-0.269258</td>\n",
       "      <td>1.618750</td>\n",
       "      <td>-0.580300</td>\n",
       "      <td>-1.194113</td>\n",
       "      <td>0.810780</td>\n",
       "    </tr>\n",
       "    <tr>\n",
       "      <th>625</th>\n",
       "      <td>-1.350583</td>\n",
       "      <td>3.713907</td>\n",
       "      <td>-1.232184</td>\n",
       "      <td>-0.723258</td>\n",
       "      <td>1.018764</td>\n",
       "      <td>-0.709562</td>\n",
       "    </tr>\n",
       "    <tr>\n",
       "      <th>1410</th>\n",
       "      <td>-0.974203</td>\n",
       "      <td>-0.269258</td>\n",
       "      <td>1.497272</td>\n",
       "      <td>1.744418</td>\n",
       "      <td>-1.074405</td>\n",
       "      <td>-0.312073</td>\n",
       "    </tr>\n",
       "    <tr>\n",
       "      <th>...</th>\n",
       "      <td>...</td>\n",
       "      <td>...</td>\n",
       "      <td>...</td>\n",
       "      <td>...</td>\n",
       "      <td>...</td>\n",
       "      <td>...</td>\n",
       "    </tr>\n",
       "    <tr>\n",
       "      <th>4093</th>\n",
       "      <td>0.456043</td>\n",
       "      <td>-0.269258</td>\n",
       "      <td>-0.090617</td>\n",
       "      <td>0.587557</td>\n",
       "      <td>-0.930777</td>\n",
       "      <td>0.737447</td>\n",
       "    </tr>\n",
       "    <tr>\n",
       "      <th>3829</th>\n",
       "      <td>0.305491</td>\n",
       "      <td>-0.269258</td>\n",
       "      <td>-0.199079</td>\n",
       "      <td>1.546476</td>\n",
       "      <td>-0.801003</td>\n",
       "      <td>0.021116</td>\n",
       "    </tr>\n",
       "    <tr>\n",
       "      <th>5441</th>\n",
       "      <td>1.208804</td>\n",
       "      <td>-0.269258</td>\n",
       "      <td>-0.333031</td>\n",
       "      <td>-1.361070</td>\n",
       "      <td>0.924889</td>\n",
       "      <td>0.310731</td>\n",
       "    </tr>\n",
       "    <tr>\n",
       "      <th>647</th>\n",
       "      <td>-1.350583</td>\n",
       "      <td>-0.269258</td>\n",
       "      <td>1.500526</td>\n",
       "      <td>0.492985</td>\n",
       "      <td>1.080309</td>\n",
       "      <td>-0.765360</td>\n",
       "    </tr>\n",
       "    <tr>\n",
       "      <th>3079</th>\n",
       "      <td>-0.070889</td>\n",
       "      <td>-0.269258</td>\n",
       "      <td>0.912118</td>\n",
       "      <td>1.168187</td>\n",
       "      <td>-0.847339</td>\n",
       "      <td>0.028556</td>\n",
       "    </tr>\n",
       "  </tbody>\n",
       "</table>\n",
       "<p>1287 rows × 6 columns</p>\n",
       "</div>"
      ],
      "text/plain": [
       "         Store  Holiday_Flag  Temperature  Fuel_Price       CPI  Unemployment\n",
       "1509 -0.898927     -0.269258     1.590550    0.631544  1.157172     -0.213764\n",
       "3124 -0.070889     -0.269258     0.490199    0.983441 -0.788782     -0.158498\n",
       "4606  0.757148     -0.269258     1.618750   -0.580300 -1.194113      0.810780\n",
       "625  -1.350583      3.713907    -1.232184   -0.723258  1.018764     -0.709562\n",
       "1410 -0.974203     -0.269258     1.497272    1.744418 -1.074405     -0.312073\n",
       "...        ...           ...          ...         ...       ...           ...\n",
       "4093  0.456043     -0.269258    -0.090617    0.587557 -0.930777      0.737447\n",
       "3829  0.305491     -0.269258    -0.199079    1.546476 -0.801003      0.021116\n",
       "5441  1.208804     -0.269258    -0.333031   -1.361070  0.924889      0.310731\n",
       "647  -1.350583     -0.269258     1.500526    0.492985  1.080309     -0.765360\n",
       "3079 -0.070889     -0.269258     0.912118    1.168187 -0.847339      0.028556\n",
       "\n",
       "[1287 rows x 6 columns]"
      ]
     },
     "execution_count": 50,
     "metadata": {},
     "output_type": "execute_result"
    }
   ],
   "source": [
    "scaled_X_test"
   ]
  },
  {
   "cell_type": "code",
   "execution_count": 51,
   "id": "64ba1546",
   "metadata": {},
   "outputs": [
    {
     "data": {
      "text/plain": [
       "SVR()"
      ]
     },
     "execution_count": 51,
     "metadata": {},
     "output_type": "execute_result"
    }
   ],
   "source": [
    "svm_model.fit(scaled_X_train,y_train)"
   ]
  },
  {
   "cell_type": "code",
   "execution_count": 54,
   "id": "3b1fca98",
   "metadata": {},
   "outputs": [],
   "source": [
    "new_svm_prediction = svm_model.predict(scaled_X_test)"
   ]
  },
  {
   "cell_type": "code",
   "execution_count": 55,
   "id": "47da8973",
   "metadata": {},
   "outputs": [
    {
     "data": {
      "text/plain": [
       "454618.02293538436"
      ]
     },
     "execution_count": 55,
     "metadata": {},
     "output_type": "execute_result"
    }
   ],
   "source": [
    "mean_absolute_error(y_test,new_svm_prediction)"
   ]
  },
  {
   "cell_type": "markdown",
   "id": "fb9b40bf",
   "metadata": {},
   "source": [
    "# Linear Regression"
   ]
  },
  {
   "cell_type": "code",
   "execution_count": 59,
   "id": "f9482455",
   "metadata": {},
   "outputs": [],
   "source": [
    "from sklearn.linear_model import LinearRegression"
   ]
  },
  {
   "cell_type": "code",
   "execution_count": 60,
   "id": "07b8999a",
   "metadata": {},
   "outputs": [],
   "source": [
    "lr_model= LinearRegression()"
   ]
  },
  {
   "cell_type": "code",
   "execution_count": 61,
   "id": "4ae4b16b",
   "metadata": {},
   "outputs": [
    {
     "data": {
      "text/plain": [
       "LinearRegression()"
      ]
     },
     "execution_count": 61,
     "metadata": {},
     "output_type": "execute_result"
    }
   ],
   "source": [
    "lr_model.fit(scaled_X_train, y_train)"
   ]
  },
  {
   "cell_type": "code",
   "execution_count": 62,
   "id": "cc080995",
   "metadata": {},
   "outputs": [],
   "source": [
    "lr_prediction = lr_model.predict(scaled_X_test)"
   ]
  },
  {
   "cell_type": "code",
   "execution_count": 63,
   "id": "5274cdd4",
   "metadata": {},
   "outputs": [],
   "source": [
    "lr_mae = mean_absolute_error(y_test, lr_prediction)"
   ]
  },
  {
   "cell_type": "code",
   "execution_count": 64,
   "id": "116d30bb",
   "metadata": {},
   "outputs": [
    {
     "data": {
      "text/plain": [
       "421941.01230603934"
      ]
     },
     "execution_count": 64,
     "metadata": {},
     "output_type": "execute_result"
    }
   ],
   "source": [
    "lr_mae"
   ]
  },
  {
   "cell_type": "code",
   "execution_count": null,
   "id": "d091d983",
   "metadata": {},
   "outputs": [],
   "source": []
  }
 ],
 "metadata": {
  "kernelspec": {
   "display_name": "Python 3",
   "language": "python",
   "name": "python3"
  },
  "language_info": {
   "codemirror_mode": {
    "name": "ipython",
    "version": 3
   },
   "file_extension": ".py",
   "mimetype": "text/x-python",
   "name": "python",
   "nbconvert_exporter": "python",
   "pygments_lexer": "ipython3",
   "version": "3.8.8"
  }
 },
 "nbformat": 4,
 "nbformat_minor": 5
}
